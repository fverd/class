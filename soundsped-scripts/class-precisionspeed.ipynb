{
 "cells": [
  {
   "cell_type": "code",
   "execution_count": 1,
   "metadata": {},
   "outputs": [],
   "source": [
    "from classy import Class\n",
    "import numpy as np\n",
    "import matplotlib.pyplot as plt"
   ]
  },
  {
   "cell_type": "code",
   "execution_count": 62,
   "metadata": {},
   "outputs": [
    {
     "data": {
      "text/plain": [
       "True"
      ]
     },
     "execution_count": 62,
     "metadata": {},
     "output_type": "execute_result"
    }
   ],
   "source": [
    "fullC = Class()\n",
    "# pass input parameters\n",
    "fullC.set({'h': 0.651278941960547, 'omega_b': 0.022827329241423288, 'omega_cdm': 0.14141059716954218, 'A_s': 1.206252611339184e-09, 'n_s': 0.9693622290014459, 'tau_reio': 0.0925, 'N_ncdm': 0.0, 'N_ur': 3.046, 'output': 'mPk',  'P_k_max_1/Mpc': 50, 'z_pk': '0.61 0.38', 'tol_perturbations_integration':1.e-5})"
   ]
  },
  {
   "cell_type": "code",
   "execution_count": 63,
   "metadata": {},
   "outputs": [
    {
     "name": "stdout",
     "output_type": "stream",
     "text": [
      "CPU times: user 3.23 s, sys: 12.9 ms, total: 3.24 s\n",
      "Wall time: 675 ms\n"
     ]
    }
   ],
   "source": [
    "%time fullC.compute()"
   ]
  },
  {
   "cell_type": "code",
   "execution_count": null,
   "metadata": {},
   "outputs": [],
   "source": []
  },
  {
   "cell_type": "code",
   "execution_count": null,
   "metadata": {},
   "outputs": [],
   "source": []
  }
 ],
 "metadata": {
  "kernelspec": {
   "display_name": "base",
   "language": "python",
   "name": "python3"
  },
  "language_info": {
   "codemirror_mode": {
    "name": "ipython",
    "version": 3
   },
   "file_extension": ".py",
   "mimetype": "text/x-python",
   "name": "python",
   "nbconvert_exporter": "python",
   "pygments_lexer": "ipython3",
   "version": "3.10.13"
  }
 },
 "nbformat": 4,
 "nbformat_minor": 2
}
